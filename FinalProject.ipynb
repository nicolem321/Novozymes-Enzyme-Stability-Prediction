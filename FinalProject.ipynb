{
 "cells": [
  {
   "cell_type": "markdown",
   "id": "f5f90af2-1d0c-479c-b87f-fff4dde58e4b",
   "metadata": {},
   "source": [
    "# COSI123A Final Project\n",
    "### Group Name: NKG\n",
    "### Group Members: Nicole Meng, Kevin Dai, Grant Gu"
   ]
  },
  {
   "cell_type": "code",
   "execution_count": 36,
   "id": "3a6c02cf-3cff-441c-b98a-0615e38ec6bf",
   "metadata": {},
   "outputs": [],
   "source": [
    "import numpy as np\n",
    "import pandas as pd\n",
    "import csv\n",
    "import math\n",
    "from sklearn.model_selection import train_test_split"
   ]
  },
  {
   "cell_type": "markdown",
   "id": "370d376e-4d83-4dda-97dd-92392f645c6f",
   "metadata": {},
   "source": [
    "## Import and Split Data"
   ]
  },
  {
   "cell_type": "code",
   "execution_count": 37,
   "id": "6e9d7331-ef2a-4d5a-8fb0-868c706fa24c",
   "metadata": {},
   "outputs": [],
   "source": [
    "test = pd.read_csv(\"test.csv\", header = None)\n",
    "train = pd.read_csv(\"train.csv\", header = None)\n",
    "train_updates = pd.read_csv(\"train_updates_20220929.csv\", header = None)\n",
    "\n",
    "#converting the types\n",
    "test[0][1:] = test[0][1:].astype(float).astype(int)\n",
    "train[0][1:] = train[0][1:].astype(float).astype(int)\n",
    "train[2][1:] = train[2][1:].astype(float)\n",
    "train[4][1:] = train[4][1:].astype(float)\n",
    "train_updates[0][1:]= train_updates[0][1:].astype(float).astype(int)\n",
    "train_updates[2][1:] = train_updates[2][1:].astype(float)\n",
    "train_updates[4][1:] = train_updates[4][1:].astype(float)"
   ]
  },
  {
   "cell_type": "code",
   "execution_count": 38,
   "id": "32cfcfb4-7221-498d-a347-9e15fa03c9ed",
   "metadata": {},
   "outputs": [],
   "source": [
    "#update train to contain the correct training data\n",
    "for i in range(1, 2435):\n",
    "    fix_id = train_updates[0][i] #the id that needs to be fixed\n",
    "    train.iloc[fix_id + 1] = train_updates.iloc[i]"
   ]
  },
  {
   "cell_type": "code",
   "execution_count": 39,
   "id": "46071778-3ace-4015-9f74-3b490b780ec9",
   "metadata": {},
   "outputs": [],
   "source": [
    "#We are planning on performing cross validation on the dataset with a 80-20 train-test split\n",
    "X_train=train.sample(frac=0.8,random_state=200)\n",
    "X_test=train.drop(X_train.index)"
   ]
  },
  {
   "cell_type": "code",
   "execution_count": 47,
   "id": "c9c5d776-a7e9-47ec-a606-da8bbdb2a816",
   "metadata": {},
   "outputs": [],
   "source": [
    "#Next, we will read into the dataframes we created and define some more terms\n",
    "X_train_x = X_train.iloc[: , 0:-1] #80% trainng data used for training model\n",
    "X_train_y = X_train.iloc[: , -1] #80% target column\n",
    "\n",
    "X_test_x = X_test.iloc[: , 0:-1] #20% training data used for training model\n",
    "X_test_y = X_test.iloc[: , -1] #20% training data used for training model\n",
    "\n",
    "#Note: for our model training, we will only use X_train_x and X_train_y"
   ]
  },
  {
   "cell_type": "markdown",
   "id": "24628491-c507-4958-bf63-c0f1fa1be59c",
   "metadata": {},
   "source": [
    "# Data Preprocessing\n",
    "Drop the columns that is wrong or does not provide useful inforamtion"
   ]
  }
 ],
 "metadata": {
  "kernelspec": {
   "display_name": "Python 3 (ipykernel)",
   "language": "python",
   "name": "python3"
  },
  "language_info": {
   "codemirror_mode": {
    "name": "ipython",
    "version": 3
   },
   "file_extension": ".py",
   "mimetype": "text/x-python",
   "name": "python",
   "nbconvert_exporter": "python",
   "pygments_lexer": "ipython3",
   "version": "3.8.5"
  }
 },
 "nbformat": 4,
 "nbformat_minor": 5
}
